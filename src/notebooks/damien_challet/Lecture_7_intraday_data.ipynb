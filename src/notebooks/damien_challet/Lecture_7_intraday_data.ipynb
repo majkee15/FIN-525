{
 "cells": [
  {
   "cell_type": "markdown",
   "metadata": {},
   "source": [
    "# Parallel computations: dask"
   ]
  },
  {
   "cell_type": "code",
   "execution_count": 1,
   "metadata": {},
   "outputs": [],
   "source": [
    "import pandas as pd\n",
    "import numpy as np\n",
    "\n",
    "import glob\n",
    "\n",
    "allfiles_trade=glob.glob(r\"C:\\Projects\\FIN-525\\data\\extraction\\TRTH\\raw\\equities\\US\\trade\\AAPL.OQ\\*\")\n",
    "allfiles_bbo=glob.glob(r\"C:\\Projects\\FIN-525\\data\\extraction\\TRTH\\raw\\equities\\US\\bbo\\AAPL.OQ\\*\")"
   ]
  },
  {
   "cell_type": "code",
   "execution_count": 2,
   "metadata": {},
   "outputs": [],
   "source": [
    "allfiles_trade=np.sort(allfiles_trade)[:100]\n",
    "allfiles_bbo=np.sort(allfiles_bbo[:100])"
   ]
  },
  {
   "cell_type": "code",
   "execution_count": 3,
   "metadata": {},
   "outputs": [
    {
     "data": {
      "text/plain": [
       "array(['C:\\\\Projects\\\\FIN-525\\\\data\\\\extraction\\\\TRTH\\\\raw\\\\equities\\\\US\\\\trade\\\\AAPL.OQ\\\\2010-01-01-AAPL.OQ-trade.csv.gz',\n",
       "       'C:\\\\Projects\\\\FIN-525\\\\data\\\\extraction\\\\TRTH\\\\raw\\\\equities\\\\US\\\\trade\\\\AAPL.OQ\\\\2010-01-04-AAPL.OQ-trade.csv.gz',\n",
       "       'C:\\\\Projects\\\\FIN-525\\\\data\\\\extraction\\\\TRTH\\\\raw\\\\equities\\\\US\\\\trade\\\\AAPL.OQ\\\\2010-01-05-AAPL.OQ-trade.csv.gz',\n",
       "       'C:\\\\Projects\\\\FIN-525\\\\data\\\\extraction\\\\TRTH\\\\raw\\\\equities\\\\US\\\\trade\\\\AAPL.OQ\\\\2010-01-06-AAPL.OQ-trade.csv.gz',\n",
       "       'C:\\\\Projects\\\\FIN-525\\\\data\\\\extraction\\\\TRTH\\\\raw\\\\equities\\\\US\\\\trade\\\\AAPL.OQ\\\\2010-01-07-AAPL.OQ-trade.csv.gz',\n",
       "       'C:\\\\Projects\\\\FIN-525\\\\data\\\\extraction\\\\TRTH\\\\raw\\\\equities\\\\US\\\\trade\\\\AAPL.OQ\\\\2010-01-08-AAPL.OQ-trade.csv.gz',\n",
       "       'C:\\\\Projects\\\\FIN-525\\\\data\\\\extraction\\\\TRTH\\\\raw\\\\equities\\\\US\\\\trade\\\\AAPL.OQ\\\\2010-01-11-AAPL.OQ-trade.csv.gz',\n",
       "       'C:\\\\Projects\\\\FIN-525\\\\data\\\\extraction\\\\TRTH\\\\raw\\\\equities\\\\US\\\\trade\\\\AAPL.OQ\\\\2010-01-12-AAPL.OQ-trade.csv.gz',\n",
       "       'C:\\\\Projects\\\\FIN-525\\\\data\\\\extraction\\\\TRTH\\\\raw\\\\equities\\\\US\\\\trade\\\\AAPL.OQ\\\\2010-01-13-AAPL.OQ-trade.csv.gz',\n",
       "       'C:\\\\Projects\\\\FIN-525\\\\data\\\\extraction\\\\TRTH\\\\raw\\\\equities\\\\US\\\\trade\\\\AAPL.OQ\\\\2010-01-14-AAPL.OQ-trade.csv.gz',\n",
       "       'C:\\\\Projects\\\\FIN-525\\\\data\\\\extraction\\\\TRTH\\\\raw\\\\equities\\\\US\\\\trade\\\\AAPL.OQ\\\\2010-01-15-AAPL.OQ-trade.csv.gz',\n",
       "       'C:\\\\Projects\\\\FIN-525\\\\data\\\\extraction\\\\TRTH\\\\raw\\\\equities\\\\US\\\\trade\\\\AAPL.OQ\\\\2010-01-18-AAPL.OQ-trade.csv.gz',\n",
       "       'C:\\\\Projects\\\\FIN-525\\\\data\\\\extraction\\\\TRTH\\\\raw\\\\equities\\\\US\\\\trade\\\\AAPL.OQ\\\\2010-01-19-AAPL.OQ-trade.csv.gz',\n",
       "       'C:\\\\Projects\\\\FIN-525\\\\data\\\\extraction\\\\TRTH\\\\raw\\\\equities\\\\US\\\\trade\\\\AAPL.OQ\\\\2010-01-20-AAPL.OQ-trade.csv.gz',\n",
       "       'C:\\\\Projects\\\\FIN-525\\\\data\\\\extraction\\\\TRTH\\\\raw\\\\equities\\\\US\\\\trade\\\\AAPL.OQ\\\\2010-01-21-AAPL.OQ-trade.csv.gz',\n",
       "       'C:\\\\Projects\\\\FIN-525\\\\data\\\\extraction\\\\TRTH\\\\raw\\\\equities\\\\US\\\\trade\\\\AAPL.OQ\\\\2010-01-22-AAPL.OQ-trade.csv.gz',\n",
       "       'C:\\\\Projects\\\\FIN-525\\\\data\\\\extraction\\\\TRTH\\\\raw\\\\equities\\\\US\\\\trade\\\\AAPL.OQ\\\\2010-01-25-AAPL.OQ-trade.csv.gz',\n",
       "       'C:\\\\Projects\\\\FIN-525\\\\data\\\\extraction\\\\TRTH\\\\raw\\\\equities\\\\US\\\\trade\\\\AAPL.OQ\\\\2010-01-26-AAPL.OQ-trade.csv.gz',\n",
       "       'C:\\\\Projects\\\\FIN-525\\\\data\\\\extraction\\\\TRTH\\\\raw\\\\equities\\\\US\\\\trade\\\\AAPL.OQ\\\\2010-01-27-AAPL.OQ-trade.csv.gz',\n",
       "       'C:\\\\Projects\\\\FIN-525\\\\data\\\\extraction\\\\TRTH\\\\raw\\\\equities\\\\US\\\\trade\\\\AAPL.OQ\\\\2010-01-28-AAPL.OQ-trade.csv.gz',\n",
       "       'C:\\\\Projects\\\\FIN-525\\\\data\\\\extraction\\\\TRTH\\\\raw\\\\equities\\\\US\\\\trade\\\\AAPL.OQ\\\\2010-01-29-AAPL.OQ-trade.csv.gz',\n",
       "       'C:\\\\Projects\\\\FIN-525\\\\data\\\\extraction\\\\TRTH\\\\raw\\\\equities\\\\US\\\\trade\\\\AAPL.OQ\\\\2010-02-01-AAPL.OQ-trade.csv.gz',\n",
       "       'C:\\\\Projects\\\\FIN-525\\\\data\\\\extraction\\\\TRTH\\\\raw\\\\equities\\\\US\\\\trade\\\\AAPL.OQ\\\\2010-02-02-AAPL.OQ-trade.csv.gz',\n",
       "       'C:\\\\Projects\\\\FIN-525\\\\data\\\\extraction\\\\TRTH\\\\raw\\\\equities\\\\US\\\\trade\\\\AAPL.OQ\\\\2010-02-03-AAPL.OQ-trade.csv.gz',\n",
       "       'C:\\\\Projects\\\\FIN-525\\\\data\\\\extraction\\\\TRTH\\\\raw\\\\equities\\\\US\\\\trade\\\\AAPL.OQ\\\\2010-02-04-AAPL.OQ-trade.csv.gz',\n",
       "       'C:\\\\Projects\\\\FIN-525\\\\data\\\\extraction\\\\TRTH\\\\raw\\\\equities\\\\US\\\\trade\\\\AAPL.OQ\\\\2010-02-05-AAPL.OQ-trade.csv.gz',\n",
       "       'C:\\\\Projects\\\\FIN-525\\\\data\\\\extraction\\\\TRTH\\\\raw\\\\equities\\\\US\\\\trade\\\\AAPL.OQ\\\\2010-02-08-AAPL.OQ-trade.csv.gz',\n",
       "       'C:\\\\Projects\\\\FIN-525\\\\data\\\\extraction\\\\TRTH\\\\raw\\\\equities\\\\US\\\\trade\\\\AAPL.OQ\\\\2010-02-09-AAPL.OQ-trade.csv.gz',\n",
       "       'C:\\\\Projects\\\\FIN-525\\\\data\\\\extraction\\\\TRTH\\\\raw\\\\equities\\\\US\\\\trade\\\\AAPL.OQ\\\\2010-02-10-AAPL.OQ-trade.csv.gz',\n",
       "       'C:\\\\Projects\\\\FIN-525\\\\data\\\\extraction\\\\TRTH\\\\raw\\\\equities\\\\US\\\\trade\\\\AAPL.OQ\\\\2010-02-11-AAPL.OQ-trade.csv.gz',\n",
       "       'C:\\\\Projects\\\\FIN-525\\\\data\\\\extraction\\\\TRTH\\\\raw\\\\equities\\\\US\\\\trade\\\\AAPL.OQ\\\\2010-02-12-AAPL.OQ-trade.csv.gz',\n",
       "       'C:\\\\Projects\\\\FIN-525\\\\data\\\\extraction\\\\TRTH\\\\raw\\\\equities\\\\US\\\\trade\\\\AAPL.OQ\\\\2010-02-15-AAPL.OQ-trade.csv.gz',\n",
       "       'C:\\\\Projects\\\\FIN-525\\\\data\\\\extraction\\\\TRTH\\\\raw\\\\equities\\\\US\\\\trade\\\\AAPL.OQ\\\\2010-02-16-AAPL.OQ-trade.csv.gz',\n",
       "       'C:\\\\Projects\\\\FIN-525\\\\data\\\\extraction\\\\TRTH\\\\raw\\\\equities\\\\US\\\\trade\\\\AAPL.OQ\\\\2010-02-17-AAPL.OQ-trade.csv.gz',\n",
       "       'C:\\\\Projects\\\\FIN-525\\\\data\\\\extraction\\\\TRTH\\\\raw\\\\equities\\\\US\\\\trade\\\\AAPL.OQ\\\\2010-02-18-AAPL.OQ-trade.csv.gz',\n",
       "       'C:\\\\Projects\\\\FIN-525\\\\data\\\\extraction\\\\TRTH\\\\raw\\\\equities\\\\US\\\\trade\\\\AAPL.OQ\\\\2010-02-19-AAPL.OQ-trade.csv.gz',\n",
       "       'C:\\\\Projects\\\\FIN-525\\\\data\\\\extraction\\\\TRTH\\\\raw\\\\equities\\\\US\\\\trade\\\\AAPL.OQ\\\\2010-02-22-AAPL.OQ-trade.csv.gz',\n",
       "       'C:\\\\Projects\\\\FIN-525\\\\data\\\\extraction\\\\TRTH\\\\raw\\\\equities\\\\US\\\\trade\\\\AAPL.OQ\\\\2010-02-23-AAPL.OQ-trade.csv.gz',\n",
       "       'C:\\\\Projects\\\\FIN-525\\\\data\\\\extraction\\\\TRTH\\\\raw\\\\equities\\\\US\\\\trade\\\\AAPL.OQ\\\\2010-02-24-AAPL.OQ-trade.csv.gz',\n",
       "       'C:\\\\Projects\\\\FIN-525\\\\data\\\\extraction\\\\TRTH\\\\raw\\\\equities\\\\US\\\\trade\\\\AAPL.OQ\\\\2010-02-25-AAPL.OQ-trade.csv.gz',\n",
       "       'C:\\\\Projects\\\\FIN-525\\\\data\\\\extraction\\\\TRTH\\\\raw\\\\equities\\\\US\\\\trade\\\\AAPL.OQ\\\\2010-02-26-AAPL.OQ-trade.csv.gz',\n",
       "       'C:\\\\Projects\\\\FIN-525\\\\data\\\\extraction\\\\TRTH\\\\raw\\\\equities\\\\US\\\\trade\\\\AAPL.OQ\\\\2010-03-01-AAPL.OQ-trade.csv.gz',\n",
       "       'C:\\\\Projects\\\\FIN-525\\\\data\\\\extraction\\\\TRTH\\\\raw\\\\equities\\\\US\\\\trade\\\\AAPL.OQ\\\\2010-03-02-AAPL.OQ-trade.csv.gz',\n",
       "       'C:\\\\Projects\\\\FIN-525\\\\data\\\\extraction\\\\TRTH\\\\raw\\\\equities\\\\US\\\\trade\\\\AAPL.OQ\\\\2010-03-03-AAPL.OQ-trade.csv.gz',\n",
       "       'C:\\\\Projects\\\\FIN-525\\\\data\\\\extraction\\\\TRTH\\\\raw\\\\equities\\\\US\\\\trade\\\\AAPL.OQ\\\\2010-03-04-AAPL.OQ-trade.csv.gz',\n",
       "       'C:\\\\Projects\\\\FIN-525\\\\data\\\\extraction\\\\TRTH\\\\raw\\\\equities\\\\US\\\\trade\\\\AAPL.OQ\\\\2010-03-05-AAPL.OQ-trade.csv.gz',\n",
       "       'C:\\\\Projects\\\\FIN-525\\\\data\\\\extraction\\\\TRTH\\\\raw\\\\equities\\\\US\\\\trade\\\\AAPL.OQ\\\\2010-03-08-AAPL.OQ-trade.csv.gz',\n",
       "       'C:\\\\Projects\\\\FIN-525\\\\data\\\\extraction\\\\TRTH\\\\raw\\\\equities\\\\US\\\\trade\\\\AAPL.OQ\\\\2010-03-09-AAPL.OQ-trade.csv.gz',\n",
       "       'C:\\\\Projects\\\\FIN-525\\\\data\\\\extraction\\\\TRTH\\\\raw\\\\equities\\\\US\\\\trade\\\\AAPL.OQ\\\\2010-03-10-AAPL.OQ-trade.csv.gz',\n",
       "       'C:\\\\Projects\\\\FIN-525\\\\data\\\\extraction\\\\TRTH\\\\raw\\\\equities\\\\US\\\\trade\\\\AAPL.OQ\\\\2010-03-11-AAPL.OQ-trade.csv.gz',\n",
       "       'C:\\\\Projects\\\\FIN-525\\\\data\\\\extraction\\\\TRTH\\\\raw\\\\equities\\\\US\\\\trade\\\\AAPL.OQ\\\\2010-03-12-AAPL.OQ-trade.csv.gz',\n",
       "       'C:\\\\Projects\\\\FIN-525\\\\data\\\\extraction\\\\TRTH\\\\raw\\\\equities\\\\US\\\\trade\\\\AAPL.OQ\\\\2010-03-15-AAPL.OQ-trade.csv.gz',\n",
       "       'C:\\\\Projects\\\\FIN-525\\\\data\\\\extraction\\\\TRTH\\\\raw\\\\equities\\\\US\\\\trade\\\\AAPL.OQ\\\\2010-03-16-AAPL.OQ-trade.csv.gz',\n",
       "       'C:\\\\Projects\\\\FIN-525\\\\data\\\\extraction\\\\TRTH\\\\raw\\\\equities\\\\US\\\\trade\\\\AAPL.OQ\\\\2010-03-17-AAPL.OQ-trade.csv.gz',\n",
       "       'C:\\\\Projects\\\\FIN-525\\\\data\\\\extraction\\\\TRTH\\\\raw\\\\equities\\\\US\\\\trade\\\\AAPL.OQ\\\\2010-03-18-AAPL.OQ-trade.csv.gz',\n",
       "       'C:\\\\Projects\\\\FIN-525\\\\data\\\\extraction\\\\TRTH\\\\raw\\\\equities\\\\US\\\\trade\\\\AAPL.OQ\\\\2010-03-19-AAPL.OQ-trade.csv.gz',\n",
       "       'C:\\\\Projects\\\\FIN-525\\\\data\\\\extraction\\\\TRTH\\\\raw\\\\equities\\\\US\\\\trade\\\\AAPL.OQ\\\\2010-03-22-AAPL.OQ-trade.csv.gz',\n",
       "       'C:\\\\Projects\\\\FIN-525\\\\data\\\\extraction\\\\TRTH\\\\raw\\\\equities\\\\US\\\\trade\\\\AAPL.OQ\\\\2010-03-23-AAPL.OQ-trade.csv.gz',\n",
       "       'C:\\\\Projects\\\\FIN-525\\\\data\\\\extraction\\\\TRTH\\\\raw\\\\equities\\\\US\\\\trade\\\\AAPL.OQ\\\\2010-03-24-AAPL.OQ-trade.csv.gz',\n",
       "       'C:\\\\Projects\\\\FIN-525\\\\data\\\\extraction\\\\TRTH\\\\raw\\\\equities\\\\US\\\\trade\\\\AAPL.OQ\\\\2010-03-25-AAPL.OQ-trade.csv.gz',\n",
       "       'C:\\\\Projects\\\\FIN-525\\\\data\\\\extraction\\\\TRTH\\\\raw\\\\equities\\\\US\\\\trade\\\\AAPL.OQ\\\\2010-03-26-AAPL.OQ-trade.csv.gz',\n",
       "       'C:\\\\Projects\\\\FIN-525\\\\data\\\\extraction\\\\TRTH\\\\raw\\\\equities\\\\US\\\\trade\\\\AAPL.OQ\\\\2010-03-29-AAPL.OQ-trade.csv.gz',\n",
       "       'C:\\\\Projects\\\\FIN-525\\\\data\\\\extraction\\\\TRTH\\\\raw\\\\equities\\\\US\\\\trade\\\\AAPL.OQ\\\\2010-03-30-AAPL.OQ-trade.csv.gz',\n",
       "       'C:\\\\Projects\\\\FIN-525\\\\data\\\\extraction\\\\TRTH\\\\raw\\\\equities\\\\US\\\\trade\\\\AAPL.OQ\\\\2010-03-31-AAPL.OQ-trade.csv.gz',\n",
       "       'C:\\\\Projects\\\\FIN-525\\\\data\\\\extraction\\\\TRTH\\\\raw\\\\equities\\\\US\\\\trade\\\\AAPL.OQ\\\\2010-04-01-AAPL.OQ-trade.csv.gz',\n",
       "       'C:\\\\Projects\\\\FIN-525\\\\data\\\\extraction\\\\TRTH\\\\raw\\\\equities\\\\US\\\\trade\\\\AAPL.OQ\\\\2010-04-02-AAPL.OQ-trade.csv.gz',\n",
       "       'C:\\\\Projects\\\\FIN-525\\\\data\\\\extraction\\\\TRTH\\\\raw\\\\equities\\\\US\\\\trade\\\\AAPL.OQ\\\\2010-04-05-AAPL.OQ-trade.csv.gz',\n",
       "       'C:\\\\Projects\\\\FIN-525\\\\data\\\\extraction\\\\TRTH\\\\raw\\\\equities\\\\US\\\\trade\\\\AAPL.OQ\\\\2010-04-06-AAPL.OQ-trade.csv.gz',\n",
       "       'C:\\\\Projects\\\\FIN-525\\\\data\\\\extraction\\\\TRTH\\\\raw\\\\equities\\\\US\\\\trade\\\\AAPL.OQ\\\\2010-04-07-AAPL.OQ-trade.csv.gz',\n",
       "       'C:\\\\Projects\\\\FIN-525\\\\data\\\\extraction\\\\TRTH\\\\raw\\\\equities\\\\US\\\\trade\\\\AAPL.OQ\\\\2010-04-08-AAPL.OQ-trade.csv.gz',\n",
       "       'C:\\\\Projects\\\\FIN-525\\\\data\\\\extraction\\\\TRTH\\\\raw\\\\equities\\\\US\\\\trade\\\\AAPL.OQ\\\\2010-04-09-AAPL.OQ-trade.csv.gz',\n",
       "       'C:\\\\Projects\\\\FIN-525\\\\data\\\\extraction\\\\TRTH\\\\raw\\\\equities\\\\US\\\\trade\\\\AAPL.OQ\\\\2010-04-12-AAPL.OQ-trade.csv.gz',\n",
       "       'C:\\\\Projects\\\\FIN-525\\\\data\\\\extraction\\\\TRTH\\\\raw\\\\equities\\\\US\\\\trade\\\\AAPL.OQ\\\\2010-04-13-AAPL.OQ-trade.csv.gz',\n",
       "       'C:\\\\Projects\\\\FIN-525\\\\data\\\\extraction\\\\TRTH\\\\raw\\\\equities\\\\US\\\\trade\\\\AAPL.OQ\\\\2010-04-14-AAPL.OQ-trade.csv.gz',\n",
       "       'C:\\\\Projects\\\\FIN-525\\\\data\\\\extraction\\\\TRTH\\\\raw\\\\equities\\\\US\\\\trade\\\\AAPL.OQ\\\\2010-04-15-AAPL.OQ-trade.csv.gz',\n",
       "       'C:\\\\Projects\\\\FIN-525\\\\data\\\\extraction\\\\TRTH\\\\raw\\\\equities\\\\US\\\\trade\\\\AAPL.OQ\\\\2010-04-16-AAPL.OQ-trade.csv.gz',\n",
       "       'C:\\\\Projects\\\\FIN-525\\\\data\\\\extraction\\\\TRTH\\\\raw\\\\equities\\\\US\\\\trade\\\\AAPL.OQ\\\\2010-04-19-AAPL.OQ-trade.csv.gz',\n",
       "       'C:\\\\Projects\\\\FIN-525\\\\data\\\\extraction\\\\TRTH\\\\raw\\\\equities\\\\US\\\\trade\\\\AAPL.OQ\\\\2010-04-20-AAPL.OQ-trade.csv.gz',\n",
       "       'C:\\\\Projects\\\\FIN-525\\\\data\\\\extraction\\\\TRTH\\\\raw\\\\equities\\\\US\\\\trade\\\\AAPL.OQ\\\\2010-04-21-AAPL.OQ-trade.csv.gz',\n",
       "       'C:\\\\Projects\\\\FIN-525\\\\data\\\\extraction\\\\TRTH\\\\raw\\\\equities\\\\US\\\\trade\\\\AAPL.OQ\\\\2010-04-22-AAPL.OQ-trade.csv.gz',\n",
       "       'C:\\\\Projects\\\\FIN-525\\\\data\\\\extraction\\\\TRTH\\\\raw\\\\equities\\\\US\\\\trade\\\\AAPL.OQ\\\\2010-04-23-AAPL.OQ-trade.csv.gz',\n",
       "       'C:\\\\Projects\\\\FIN-525\\\\data\\\\extraction\\\\TRTH\\\\raw\\\\equities\\\\US\\\\trade\\\\AAPL.OQ\\\\2010-04-26-AAPL.OQ-trade.csv.gz',\n",
       "       'C:\\\\Projects\\\\FIN-525\\\\data\\\\extraction\\\\TRTH\\\\raw\\\\equities\\\\US\\\\trade\\\\AAPL.OQ\\\\2010-04-27-AAPL.OQ-trade.csv.gz',\n",
       "       'C:\\\\Projects\\\\FIN-525\\\\data\\\\extraction\\\\TRTH\\\\raw\\\\equities\\\\US\\\\trade\\\\AAPL.OQ\\\\2010-04-28-AAPL.OQ-trade.csv.gz',\n",
       "       'C:\\\\Projects\\\\FIN-525\\\\data\\\\extraction\\\\TRTH\\\\raw\\\\equities\\\\US\\\\trade\\\\AAPL.OQ\\\\2010-04-29-AAPL.OQ-trade.csv.gz',\n",
       "       'C:\\\\Projects\\\\FIN-525\\\\data\\\\extraction\\\\TRTH\\\\raw\\\\equities\\\\US\\\\trade\\\\AAPL.OQ\\\\2010-04-30-AAPL.OQ-trade.csv.gz',\n",
       "       'C:\\\\Projects\\\\FIN-525\\\\data\\\\extraction\\\\TRTH\\\\raw\\\\equities\\\\US\\\\trade\\\\AAPL.OQ\\\\2010-05-03-AAPL.OQ-trade.csv.gz',\n",
       "       'C:\\\\Projects\\\\FIN-525\\\\data\\\\extraction\\\\TRTH\\\\raw\\\\equities\\\\US\\\\trade\\\\AAPL.OQ\\\\2010-05-04-AAPL.OQ-trade.csv.gz',\n",
       "       'C:\\\\Projects\\\\FIN-525\\\\data\\\\extraction\\\\TRTH\\\\raw\\\\equities\\\\US\\\\trade\\\\AAPL.OQ\\\\2010-05-05-AAPL.OQ-trade.csv.gz',\n",
       "       'C:\\\\Projects\\\\FIN-525\\\\data\\\\extraction\\\\TRTH\\\\raw\\\\equities\\\\US\\\\trade\\\\AAPL.OQ\\\\2010-05-06-AAPL.OQ-trade.csv.gz',\n",
       "       'C:\\\\Projects\\\\FIN-525\\\\data\\\\extraction\\\\TRTH\\\\raw\\\\equities\\\\US\\\\trade\\\\AAPL.OQ\\\\2010-05-07-AAPL.OQ-trade.csv.gz',\n",
       "       'C:\\\\Projects\\\\FIN-525\\\\data\\\\extraction\\\\TRTH\\\\raw\\\\equities\\\\US\\\\trade\\\\AAPL.OQ\\\\2010-05-10-AAPL.OQ-trade.csv.gz',\n",
       "       'C:\\\\Projects\\\\FIN-525\\\\data\\\\extraction\\\\TRTH\\\\raw\\\\equities\\\\US\\\\trade\\\\AAPL.OQ\\\\2010-05-11-AAPL.OQ-trade.csv.gz',\n",
       "       'C:\\\\Projects\\\\FIN-525\\\\data\\\\extraction\\\\TRTH\\\\raw\\\\equities\\\\US\\\\trade\\\\AAPL.OQ\\\\2010-05-12-AAPL.OQ-trade.csv.gz',\n",
       "       'C:\\\\Projects\\\\FIN-525\\\\data\\\\extraction\\\\TRTH\\\\raw\\\\equities\\\\US\\\\trade\\\\AAPL.OQ\\\\2010-05-13-AAPL.OQ-trade.csv.gz',\n",
       "       'C:\\\\Projects\\\\FIN-525\\\\data\\\\extraction\\\\TRTH\\\\raw\\\\equities\\\\US\\\\trade\\\\AAPL.OQ\\\\2010-05-14-AAPL.OQ-trade.csv.gz',\n",
       "       'C:\\\\Projects\\\\FIN-525\\\\data\\\\extraction\\\\TRTH\\\\raw\\\\equities\\\\US\\\\trade\\\\AAPL.OQ\\\\2010-05-17-AAPL.OQ-trade.csv.gz',\n",
       "       'C:\\\\Projects\\\\FIN-525\\\\data\\\\extraction\\\\TRTH\\\\raw\\\\equities\\\\US\\\\trade\\\\AAPL.OQ\\\\2010-05-18-AAPL.OQ-trade.csv.gz',\n",
       "       'C:\\\\Projects\\\\FIN-525\\\\data\\\\extraction\\\\TRTH\\\\raw\\\\equities\\\\US\\\\trade\\\\AAPL.OQ\\\\2010-05-19-AAPL.OQ-trade.csv.gz',\n",
       "       'C:\\\\Projects\\\\FIN-525\\\\data\\\\extraction\\\\TRTH\\\\raw\\\\equities\\\\US\\\\trade\\\\AAPL.OQ\\\\2010-05-20-AAPL.OQ-trade.csv.gz'],\n",
       "      dtype='<U102')"
      ]
     },
     "execution_count": 3,
     "metadata": {},
     "output_type": "execute_result"
    }
   ],
   "source": [
    "allfiles_trade"
   ]
  },
  {
   "cell_type": "code",
   "execution_count": 7,
   "metadata": {},
   "outputs": [
    {
     "data": {
      "text/html": [
       "<div>\n",
       "<style scoped>\n",
       "    .dataframe tbody tr th:only-of-type {\n",
       "        vertical-align: middle;\n",
       "    }\n",
       "\n",
       "    .dataframe tbody tr th {\n",
       "        vertical-align: top;\n",
       "    }\n",
       "\n",
       "    .dataframe thead th {\n",
       "        text-align: right;\n",
       "    }\n",
       "</style>\n",
       "<table border=\"1\" class=\"dataframe\">\n",
       "  <thead>\n",
       "    <tr style=\"text-align: right;\">\n",
       "      <th></th>\n",
       "      <th>xltime</th>\n",
       "      <th>trade-price</th>\n",
       "      <th>trade-volume</th>\n",
       "      <th>trade-stringflag</th>\n",
       "      <th>trade-rawflag</th>\n",
       "    </tr>\n",
       "  </thead>\n",
       "  <tbody>\n",
       "    <tr>\n",
       "      <th>0</th>\n",
       "      <td>40318.468249</td>\n",
       "      <td>246.41</td>\n",
       "      <td>100</td>\n",
       "      <td>marketclosed|volumeupdate</td>\n",
       "      <td>[GV4_TEXT       ]@ T                          ...</td>\n",
       "    </tr>\n",
       "    <tr>\n",
       "      <th>1</th>\n",
       "      <td>40318.468249</td>\n",
       "      <td>246.41</td>\n",
       "      <td>100</td>\n",
       "      <td>marketclosed|volumeupdate</td>\n",
       "      <td>[GV4_TEXT       ]@ T                          ...</td>\n",
       "    </tr>\n",
       "    <tr>\n",
       "      <th>2</th>\n",
       "      <td>40318.469493</td>\n",
       "      <td>246.41</td>\n",
       "      <td>100</td>\n",
       "      <td>marketclosed|volumeupdate</td>\n",
       "      <td>[GV4_TEXT       ]@ T                          ...</td>\n",
       "    </tr>\n",
       "    <tr>\n",
       "      <th>3</th>\n",
       "      <td>40318.469493</td>\n",
       "      <td>246.41</td>\n",
       "      <td>100</td>\n",
       "      <td>marketclosed|volumeupdate</td>\n",
       "      <td>[GV4_TEXT       ]@ T                          ...</td>\n",
       "    </tr>\n",
       "    <tr>\n",
       "      <th>4</th>\n",
       "      <td>40318.471150</td>\n",
       "      <td>246.45</td>\n",
       "      <td>200</td>\n",
       "      <td>marketclosed|volumeupdate</td>\n",
       "      <td>[GV4_TEXT       ]@FT                          ...</td>\n",
       "    </tr>\n",
       "    <tr>\n",
       "      <th>...</th>\n",
       "      <td>...</td>\n",
       "      <td>...</td>\n",
       "      <td>...</td>\n",
       "      <td>...</td>\n",
       "      <td>...</td>\n",
       "    </tr>\n",
       "    <tr>\n",
       "      <th>111170</th>\n",
       "      <td>40318.999029</td>\n",
       "      <td>235.00</td>\n",
       "      <td>100</td>\n",
       "      <td>marketclosed|volumeupdate</td>\n",
       "      <td>[GV4_TEXT       ]@ T                          ...</td>\n",
       "    </tr>\n",
       "    <tr>\n",
       "      <th>111171</th>\n",
       "      <td>40318.999092</td>\n",
       "      <td>235.00</td>\n",
       "      <td>180</td>\n",
       "      <td>marketclosed|volumeupdate</td>\n",
       "      <td>[GV4_TEXT       ]@ T                          ...</td>\n",
       "    </tr>\n",
       "    <tr>\n",
       "      <th>111172</th>\n",
       "      <td>40318.999591</td>\n",
       "      <td>235.16</td>\n",
       "      <td>129</td>\n",
       "      <td>marketclosed|volumeupdate</td>\n",
       "      <td>[GV4_TEXT       ]@FT                          ...</td>\n",
       "    </tr>\n",
       "    <tr>\n",
       "      <th>111173</th>\n",
       "      <td>40318.999721</td>\n",
       "      <td>235.25</td>\n",
       "      <td>250</td>\n",
       "      <td>marketclosed|volumeupdate</td>\n",
       "      <td>[GV4_TEXT       ]@ T                          ...</td>\n",
       "    </tr>\n",
       "    <tr>\n",
       "      <th>111174</th>\n",
       "      <td>40318.999846</td>\n",
       "      <td>235.00</td>\n",
       "      <td>250</td>\n",
       "      <td>marketclosed|volumeupdate</td>\n",
       "      <td>[GV4_TEXT       ]@FT                          ...</td>\n",
       "    </tr>\n",
       "  </tbody>\n",
       "</table>\n",
       "<p>111175 rows × 5 columns</p>\n",
       "</div>"
      ],
      "text/plain": [
       "              xltime  trade-price  trade-volume           trade-stringflag  \\\n",
       "0       40318.468249       246.41           100  marketclosed|volumeupdate   \n",
       "1       40318.468249       246.41           100  marketclosed|volumeupdate   \n",
       "2       40318.469493       246.41           100  marketclosed|volumeupdate   \n",
       "3       40318.469493       246.41           100  marketclosed|volumeupdate   \n",
       "4       40318.471150       246.45           200  marketclosed|volumeupdate   \n",
       "...              ...          ...           ...                        ...   \n",
       "111170  40318.999029       235.00           100  marketclosed|volumeupdate   \n",
       "111171  40318.999092       235.00           180  marketclosed|volumeupdate   \n",
       "111172  40318.999591       235.16           129  marketclosed|volumeupdate   \n",
       "111173  40318.999721       235.25           250  marketclosed|volumeupdate   \n",
       "111174  40318.999846       235.00           250  marketclosed|volumeupdate   \n",
       "\n",
       "                                            trade-rawflag  \n",
       "0       [GV4_TEXT       ]@ T                          ...  \n",
       "1       [GV4_TEXT       ]@ T                          ...  \n",
       "2       [GV4_TEXT       ]@ T                          ...  \n",
       "3       [GV4_TEXT       ]@ T                          ...  \n",
       "4       [GV4_TEXT       ]@FT                          ...  \n",
       "...                                                   ...  \n",
       "111170  [GV4_TEXT       ]@ T                          ...  \n",
       "111171  [GV4_TEXT       ]@ T                          ...  \n",
       "111172  [GV4_TEXT       ]@FT                          ...  \n",
       "111173  [GV4_TEXT       ]@ T                          ...  \n",
       "111174  [GV4_TEXT       ]@FT                          ...  \n",
       "\n",
       "[111175 rows x 5 columns]"
      ]
     },
     "execution_count": 7,
     "metadata": {},
     "output_type": "execute_result"
    }
   ],
   "source": [
    "pd.read_csv('C:\\\\Projects\\\\FIN-525\\\\data\\\\extraction\\\\TRTH\\\\raw\\\\equities\\\\US\\\\trade\\\\AAPL.OQ\\\\2010-05-20-AAPL.OQ-trade.csv.gz')"
   ]
  },
  {
   "cell_type": "markdown",
   "metadata": {},
   "source": [
    "### Dask in practice"
   ]
  },
  {
   "cell_type": "code",
   "execution_count": 4,
   "metadata": {},
   "outputs": [],
   "source": [
    "import dask\n",
    "dask.config.set(scheduler=\"processes\")\n",
    "\n",
    "@dask.delayed\n",
    "def load_TRTH_trade(filename,\n",
    "             tz_exchange=\"America/New_York\",\n",
    "             only_non_special_trades=True,\n",
    "             only_regular_trading_hours=True,\n",
    "             open_time=\"09:30:00\",\n",
    "             close_time=\"16:00:00\",\n",
    "             merge_sub_trades=True):\n",
    "   \n",
    "    try:\n",
    "        DF = pd.read_csv(filename)\n",
    "    except:\n",
    "        return None\n",
    "    \n",
    "    if DF.shape[0] ==0:\n",
    "        return None\n",
    "    \n",
    "    \n",
    "    \n",
    "    if only_non_special_trades:\n",
    "        DF = DF[DF[\"trade-stringflag\"]==\"uncategorized\"]\n",
    "\n",
    "    DF.drop(columns=[\"trade-rawflag\",\"trade-stringflag\"],axis=1,inplace=True)\n",
    "    \n",
    "    DF.index = pd.to_datetime(DF[\"xltime\"],unit=\"d\",origin=\"1899-12-30\",utc=True)\n",
    "    DF.index = DF.index.tz_convert(tz_exchange)  # .P stands for Arca, which is based at New York\n",
    "    DF.drop(columns=\"xltime\",inplace=True)\n",
    "    \n",
    "    if only_regular_trading_hours:\n",
    "        DF=DF.between_time(open_time,close_time)    # warning: ever heard e.g. about Thanksgivings?\n",
    "    \n",
    "    if merge_sub_trades:\n",
    "           DF=DF.groupby(DF.index).agg(trade_price=pd.NamedAgg(column='trade-price', aggfunc='mean'),\n",
    "                                       trade_volume=pd.NamedAgg(column='trade-volume', aggfunc='sum'))\n",
    "    \n",
    "    return DF\n",
    "\n",
    "\n",
    "@dask.delayed\n",
    "def load_TRTH_bbo(filename,\n",
    "             tz_exchange=\"America/New_York\",\n",
    "             open_time=\"09:30:00\",\n",
    "             close_time=\"16:00:00\",\n",
    "             only_regular_trading_hours=True):\n",
    "    \n",
    "        \n",
    "    try:\n",
    "        DF = pd.read_csv(filename)\n",
    "    except:\n",
    "        return None\n",
    "    \n",
    "    if DF.shape[0] ==0:\n",
    "        return None\n",
    "    \n",
    "    DF.index = pd.to_datetime(DF[\"xltime\"],unit=\"d\",origin=\"1899-12-30\",utc=True)\n",
    "    DF.index = DF.index.tz_convert(tz_exchange)  # .P stands for Arca, which is based at New York\n",
    "    DF.drop(columns=\"xltime\",inplace=True)\n",
    "    \n",
    "    if only_regular_trading_hours:\n",
    "        DF=DF.between_time(open_time,close_time)    # warning: ever heard e.g. about Thanksgivings?\n",
    "        \n",
    "    return DF"
   ]
  },
  {
   "cell_type": "code",
   "execution_count": 27,
   "metadata": {},
   "outputs": [],
   "source": [
    "allpromises_trade=[load_TRTH_trade(fn) for fn in allfiles_trade]    # this takes not time at all\n",
    "allpromises_bbo=[load_TRTH_bbo(fn) for fn in allfiles_bbo]"
   ]
  },
  {
   "cell_type": "code",
   "execution_count": 28,
   "metadata": {},
   "outputs": [],
   "source": [
    "alltrades=dask.compute(allpromises_trade)[0]                 # now the computations take place. Monitor your CPU !\n",
    "allbbos=dask.compute(allpromises_bbo)[0]                 # now the computations take place. Monitor your CPU !"
   ]
  },
  {
   "cell_type": "code",
   "execution_count": 29,
   "metadata": {},
   "outputs": [],
   "source": [
    "alltrades=pd.concat(alltrades)\n",
    "allbbos=pd.concat(allbbos)"
   ]
  },
  {
   "cell_type": "code",
   "execution_count": 30,
   "metadata": {},
   "outputs": [],
   "source": [
    "allevents=alltrades.join(allbbos,how='inner')"
   ]
  },
  {
   "cell_type": "code",
   "execution_count": 31,
   "metadata": {},
   "outputs": [
    {
     "data": {
      "text/html": [
       "<div>\n",
       "<style scoped>\n",
       "    .dataframe tbody tr th:only-of-type {\n",
       "        vertical-align: middle;\n",
       "    }\n",
       "\n",
       "    .dataframe tbody tr th {\n",
       "        vertical-align: top;\n",
       "    }\n",
       "\n",
       "    .dataframe thead th {\n",
       "        text-align: right;\n",
       "    }\n",
       "</style>\n",
       "<table border=\"1\" class=\"dataframe\">\n",
       "  <thead>\n",
       "    <tr style=\"text-align: right;\">\n",
       "      <th></th>\n",
       "      <th>trade_price</th>\n",
       "      <th>trade_volume</th>\n",
       "      <th>bid-price</th>\n",
       "      <th>bid-volume</th>\n",
       "      <th>ask-price</th>\n",
       "      <th>ask-volume</th>\n",
       "    </tr>\n",
       "    <tr>\n",
       "      <th>xltime</th>\n",
       "      <th></th>\n",
       "      <th></th>\n",
       "      <th></th>\n",
       "      <th></th>\n",
       "      <th></th>\n",
       "      <th></th>\n",
       "    </tr>\n",
       "  </thead>\n",
       "  <tbody>\n",
       "    <tr>\n",
       "      <th>2010-01-04 09:30:00.615974400-05:00</th>\n",
       "      <td>213.5375</td>\n",
       "      <td>1130.0</td>\n",
       "      <td>213.46</td>\n",
       "      <td>1</td>\n",
       "      <td>213.53</td>\n",
       "      <td>1</td>\n",
       "    </tr>\n",
       "    <tr>\n",
       "      <th>2010-01-04 09:30:00.615974400-05:00</th>\n",
       "      <td>213.5375</td>\n",
       "      <td>1130.0</td>\n",
       "      <td>213.40</td>\n",
       "      <td>1</td>\n",
       "      <td>213.53</td>\n",
       "      <td>1</td>\n",
       "    </tr>\n",
       "    <tr>\n",
       "      <th>2010-01-04 09:30:00.636019200-05:00</th>\n",
       "      <td>213.5000</td>\n",
       "      <td>100.0</td>\n",
       "      <td>213.44</td>\n",
       "      <td>1</td>\n",
       "      <td>213.55</td>\n",
       "      <td>4</td>\n",
       "    </tr>\n",
       "    <tr>\n",
       "      <th>2010-01-04 09:30:00.636019200-05:00</th>\n",
       "      <td>213.5000</td>\n",
       "      <td>100.0</td>\n",
       "      <td>213.46</td>\n",
       "      <td>1</td>\n",
       "      <td>213.55</td>\n",
       "      <td>4</td>\n",
       "    </tr>\n",
       "    <tr>\n",
       "      <th>2010-01-04 09:30:00.648979199-05:00</th>\n",
       "      <td>213.5500</td>\n",
       "      <td>100.0</td>\n",
       "      <td>213.47</td>\n",
       "      <td>1</td>\n",
       "      <td>213.55</td>\n",
       "      <td>3</td>\n",
       "    </tr>\n",
       "    <tr>\n",
       "      <th>...</th>\n",
       "      <td>...</td>\n",
       "      <td>...</td>\n",
       "      <td>...</td>\n",
       "      <td>...</td>\n",
       "      <td>...</td>\n",
       "      <td>...</td>\n",
       "    </tr>\n",
       "    <tr>\n",
       "      <th>2010-05-20 15:59:59.813001600-04:00</th>\n",
       "      <td>237.5650</td>\n",
       "      <td>800.0</td>\n",
       "      <td>237.18</td>\n",
       "      <td>38</td>\n",
       "      <td>237.57</td>\n",
       "      <td>56</td>\n",
       "    </tr>\n",
       "    <tr>\n",
       "      <th>2010-05-20 15:59:59.813001600-04:00</th>\n",
       "      <td>237.5650</td>\n",
       "      <td>800.0</td>\n",
       "      <td>237.18</td>\n",
       "      <td>37</td>\n",
       "      <td>237.57</td>\n",
       "      <td>56</td>\n",
       "    </tr>\n",
       "    <tr>\n",
       "      <th>2010-05-20 15:59:59.813001600-04:00</th>\n",
       "      <td>237.5650</td>\n",
       "      <td>800.0</td>\n",
       "      <td>237.18</td>\n",
       "      <td>37</td>\n",
       "      <td>237.57</td>\n",
       "      <td>52</td>\n",
       "    </tr>\n",
       "    <tr>\n",
       "      <th>2010-05-20 15:59:59.813001600-04:00</th>\n",
       "      <td>237.5650</td>\n",
       "      <td>800.0</td>\n",
       "      <td>237.18</td>\n",
       "      <td>38</td>\n",
       "      <td>237.57</td>\n",
       "      <td>52</td>\n",
       "    </tr>\n",
       "    <tr>\n",
       "      <th>2010-05-20 15:59:59.823024-04:00</th>\n",
       "      <td>237.5700</td>\n",
       "      <td>100.0</td>\n",
       "      <td>237.18</td>\n",
       "      <td>38</td>\n",
       "      <td>237.57</td>\n",
       "      <td>51</td>\n",
       "    </tr>\n",
       "  </tbody>\n",
       "</table>\n",
       "<p>7225585 rows × 6 columns</p>\n",
       "</div>"
      ],
      "text/plain": [
       "                                     trade_price  trade_volume  bid-price  \\\n",
       "xltime                                                                      \n",
       "2010-01-04 09:30:00.615974400-05:00     213.5375        1130.0     213.46   \n",
       "2010-01-04 09:30:00.615974400-05:00     213.5375        1130.0     213.40   \n",
       "2010-01-04 09:30:00.636019200-05:00     213.5000         100.0     213.44   \n",
       "2010-01-04 09:30:00.636019200-05:00     213.5000         100.0     213.46   \n",
       "2010-01-04 09:30:00.648979199-05:00     213.5500         100.0     213.47   \n",
       "...                                          ...           ...        ...   \n",
       "2010-05-20 15:59:59.813001600-04:00     237.5650         800.0     237.18   \n",
       "2010-05-20 15:59:59.813001600-04:00     237.5650         800.0     237.18   \n",
       "2010-05-20 15:59:59.813001600-04:00     237.5650         800.0     237.18   \n",
       "2010-05-20 15:59:59.813001600-04:00     237.5650         800.0     237.18   \n",
       "2010-05-20 15:59:59.823024-04:00        237.5700         100.0     237.18   \n",
       "\n",
       "                                     bid-volume  ask-price  ask-volume  \n",
       "xltime                                                                  \n",
       "2010-01-04 09:30:00.615974400-05:00           1     213.53           1  \n",
       "2010-01-04 09:30:00.615974400-05:00           1     213.53           1  \n",
       "2010-01-04 09:30:00.636019200-05:00           1     213.55           4  \n",
       "2010-01-04 09:30:00.636019200-05:00           1     213.55           4  \n",
       "2010-01-04 09:30:00.648979199-05:00           1     213.55           3  \n",
       "...                                         ...        ...         ...  \n",
       "2010-05-20 15:59:59.813001600-04:00          38     237.57          56  \n",
       "2010-05-20 15:59:59.813001600-04:00          37     237.57          56  \n",
       "2010-05-20 15:59:59.813001600-04:00          37     237.57          52  \n",
       "2010-05-20 15:59:59.813001600-04:00          38     237.57          52  \n",
       "2010-05-20 15:59:59.823024-04:00             38     237.57          51  \n",
       "\n",
       "[7225585 rows x 6 columns]"
      ]
     },
     "execution_count": 31,
     "metadata": {},
     "output_type": "execute_result"
    }
   ],
   "source": [
    "allevents.ffill(inplace=True)\n",
    "allevents"
   ]
  },
  {
   "cell_type": "code",
   "execution_count": 40,
   "metadata": {},
   "outputs": [
    {
     "data": {
      "text/plain": [
       "159.2879991531372"
      ]
     },
     "execution_count": 40,
     "metadata": {},
     "output_type": "execute_result"
    }
   ],
   "source": [
    "import time\n",
    "\n",
    "t0=time.time()\n",
    "allevents.to_csv('allevents.csv.gz')\n",
    "t1=time.time()\n",
    "t1-t0"
   ]
  },
  {
   "cell_type": "code",
   "execution_count": 45,
   "metadata": {},
   "outputs": [
    {
     "data": {
      "text/plain": [
       "DatetimeIndex(['2010-01-04 09:30:00.615974400-05:00',\n",
       "               '2010-01-04 09:30:00.615974400-05:00',\n",
       "               '2010-01-04 09:30:00.636019200-05:00',\n",
       "               '2010-01-04 09:30:00.636019200-05:00',\n",
       "               '2010-01-04 09:30:00.648979199-05:00',\n",
       "               '2010-01-04 09:30:00.648979199-05:00',\n",
       "               '2010-01-04 09:30:00.881999999-05:00',\n",
       "               '2010-01-04 09:30:00.881999999-05:00',\n",
       "               '2010-01-04 09:30:00.881999999-05:00',\n",
       "               '2010-01-04 09:30:00.881999999-05:00',\n",
       "               ...\n",
       "               '2010-05-20 15:59:59.736969600-04:00',\n",
       "               '2010-05-20 15:59:59.736969600-04:00',\n",
       "               '2010-05-20 15:59:59.736969600-04:00',\n",
       "               '2010-05-20 15:59:59.736969600-04:00',\n",
       "               '2010-05-20 15:59:59.736969600-04:00',\n",
       "               '2010-05-20 15:59:59.813001600-04:00',\n",
       "               '2010-05-20 15:59:59.813001600-04:00',\n",
       "               '2010-05-20 15:59:59.813001600-04:00',\n",
       "               '2010-05-20 15:59:59.813001600-04:00',\n",
       "                  '2010-05-20 15:59:59.823024-04:00'],\n",
       "              dtype='datetime64[ns, America/New_York]', name='xltime', length=7225585, freq=None)"
      ]
     },
     "execution_count": 45,
     "metadata": {},
     "output_type": "execute_result"
    }
   ],
   "source": [
    "allevents.index"
   ]
  },
  {
   "cell_type": "code",
   "execution_count": 51,
   "metadata": {},
   "outputs": [
    {
     "data": {
      "text/plain": [
       "1.0939984321594238"
      ]
     },
     "execution_count": 51,
     "metadata": {},
     "output_type": "execute_result"
    }
   ],
   "source": [
    "import time\n",
    "t0=time.time()\n",
    "allevents.to_parquet(\"allevents.parquet\", allow_truncated_timestamps=True, coerce_timestamps='ms')\n",
    "t1=time.time()\n",
    "t1-t0"
   ]
  },
  {
   "cell_type": "code",
   "execution_count": 52,
   "metadata": {},
   "outputs": [
    {
     "data": {
      "text/plain": [
       "0.04748964309692383"
      ]
     },
     "execution_count": 52,
     "metadata": {},
     "output_type": "execute_result"
    }
   ],
   "source": [
    "import pyarrow as pa   # penalty to convert the DataFrame to arrow RAM representation \n",
    "t0=time.time()\n",
    "pa.Table.from_pandas(allevents)\n",
    "t1=time.time()\n",
    "t1-t0"
   ]
  },
  {
   "cell_type": "code",
   "execution_count": 55,
   "metadata": {},
   "outputs": [],
   "source": [
    "alltrades[\"5min\"]=(alltrades.index.hour*60+alltrades.index.minute)//5\n",
    "numtrades_5min=alltrades[\"5min\"].value_counts()"
   ]
  },
  {
   "cell_type": "code",
   "execution_count": 67,
   "metadata": {},
   "outputs": [
    {
     "data": {
      "text/plain": [
       "<matplotlib.collections.PathCollection at 0x1bb04825280>"
      ]
     },
     "execution_count": 67,
     "metadata": {},
     "output_type": "execute_result"
    },
    {
     "data": {
      "image/png": "[encoded data removed]",
      "text/plain": [
       "<Figure size 432x288 with 1 Axes>"
      ]
     },
     "metadata": {
      "needs_background": "light"
     },
     "output_type": "display_data"
    }
   ],
   "source": [
    "import matplotlib.pyplot as plt\n",
    "plt.scatter(numtrades_5min.index*5/60,numtrades_5min.values)"
   ]
  },
  {
   "cell_type": "code",
   "execution_count": 74,
   "metadata": {},
   "outputs": [],
   "source": [
    "allevents[\"s\"]=2*((allevents[\"ask-price\"]-allevents[\"trade_price\"])>(allevents[\"trade_price\"]-allevents[\"bid-price\"]))-1"
   ]
  },
  {
   "cell_type": "code",
   "execution_count": 84,
   "metadata": {},
   "outputs": [],
   "source": [
    "# s is too long for the usual auto-correlation functions (complexity O(N^2)). \n",
    "# One should use Fast Fourier Transforms instead\n",
    "# source: https://dsp.stackexchange.com/questions/54924/autocorrelation-numpy-versus-fft\n",
    "# exercise: show that the auto-correlation can be obtained from the power spectrum\n",
    "\n",
    "s = allevents[\"s\"].values\n",
    "s = np.concatenate((s,np.zeros(len(s)-1))) # added zeros to your signal\n",
    "A = np.fft.fft(s)\n",
    "S = np.conj(A)*A\n",
    "c_fourier = np.fft.ifft(S)\n",
    "c_fast = c_fourier[:(c_fourier.size//2)+1]/len(s)"
   ]
  },
  {
   "cell_type": "markdown",
   "metadata": {},
   "source": [
    "So I can discard the imaginary parts because they are rementants of numerical error --> they're very small"
   ]
  },
  {
   "cell_type": "code",
   "execution_count": 98,
   "metadata": {},
   "outputs": [
    {
     "data": {
      "text/plain": [
       "[<matplotlib.lines.Line2D at 0x1bb047811c0>]"
      ]
     },
     "execution_count": 98,
     "metadata": {},
     "output_type": "execute_result"
    },
    {
     "data": {
      "image/png": "[encoded data removed]",
      "text/plain": [
       "<Figure size 432x288 with 1 Axes>"
      ]
     },
     "metadata": {
      "needs_background": "light"
     },
     "output_type": "display_data"
    }
   ],
   "source": [
    "plt.plot(c_fast.imag)"
   ]
  },
  {
   "cell_type": "code",
   "execution_count": 59,
   "metadata": {},
   "outputs": [
    {
     "name": "stderr",
     "output_type": "stream",
     "text": [
      "C:\\Users\\markm\\.conda\\envs\\hft\\lib\\site-packages\\numpy\\core\\_asarray.py:83: ComplexWarning: Casting complex values to real discards the imaginary part\n",
      "  return array(a, dtype, copy=False, order=order)\n"
     ]
    },
    {
     "data": {
      "image/png": "[encoded data removed]",
      "text/plain": [
       "<Figure size 432x288 with 1 Axes>"
      ]
     },
     "metadata": {
      "needs_background": "light"
     },
     "output_type": "display_data"
    }
   ],
   "source": [
    "import matplotlib.pyplot as plt\n",
    "plt.plot(c_fast[:10000,])\n",
    "plt.xscale(\"log\")\n",
    "plt.yscale(\"log\")"
   ]
  },
  {
   "cell_type": "code",
   "execution_count": 73,
   "metadata": {},
   "outputs": [
    {
     "name": "stderr",
     "output_type": "stream",
     "text": [
      "C:\\Users\\markm\\.conda\\envs\\hft\\lib\\site-packages\\numpy\\core\\_asarray.py:83: ComplexWarning: Casting complex values to real discards the imaginary part\n",
      "  return array(a, dtype, copy=False, order=order)\n"
     ]
    },
    {
     "data": {
      "image/png": "[encoded data removed]",
      "text/plain": [
       "<Figure size 432x288 with 1 Axes>"
      ]
     },
     "metadata": {
      "needs_background": "light"
     },
     "output_type": "display_data"
    }
   ],
   "source": [
    "plt.plot(c_fast[:10000,])\n",
    "plt.xscale(\"log\")"
   ]
  },
  {
   "cell_type": "markdown",
   "metadata": {},
   "source": [
    "Mike's way"
   ]
  },
  {
   "cell_type": "code",
   "execution_count": 88,
   "metadata": {},
   "outputs": [],
   "source": [
    "s = allevents[\"s\"].values\n",
    "s = np.concatenate((s,np.zeros(len(s)-1))) # added zeros to your signal\n",
    "c = np.fft.fft(np.square(np.fft.ifft(s)))\n",
    "#A = np.fft.fft(s)\n",
    "#S = np.conj(A)*A\n",
    "# c_fourier = np.fft.ifft(S)\n",
    "# c_fast = c_fourier[:(c_fourier.size//2)+1]/len(s)"
   ]
  },
  {
   "cell_type": "code",
   "execution_count": 93,
   "metadata": {},
   "outputs": [
    {
     "name": "stderr",
     "output_type": "stream",
     "text": [
      "C:\\Users\\markm\\.conda\\envs\\hft\\lib\\site-packages\\numpy\\core\\_asarray.py:83: ComplexWarning: Casting complex values to real discards the imaginary part\n",
      "  return array(a, dtype, copy=False, order=order)\n"
     ]
    },
    {
     "data": {
      "image/png": "[encoded data removed]",
      "text/plain": [
       "<Figure size 432x288 with 1 Axes>"
      ]
     },
     "metadata": {
      "needs_background": "light"
     },
     "output_type": "display_data"
    }
   ],
   "source": [
    "import matplotlib.pyplot as plt\n",
    "plt.plot(c[:10000,])\n",
    "plt.xscale(\"log\")\n",
    "plt.yscale(\"log\")"
   ]
  },
  {
   "cell_type": "code",
   "execution_count": 100,
   "metadata": {},
   "outputs": [
    {
     "data": {
      "text/plain": [
       "[<matplotlib.lines.Line2D at 0x1bb048e80a0>]"
      ]
     },
     "execution_count": 100,
     "metadata": {},
     "output_type": "execute_result"
    },
    {
     "data": {
      "image/png": "[encoded data removed]",
      "text/plain": [
       "<Figure size 432x288 with 1 Axes>"
      ]
     },
     "metadata": {
      "needs_background": "light"
     },
     "output_type": "display_data"
    }
   ],
   "source": [
    "plt.plot(c.imag)"
   ]
  },
  {
   "cell_type": "code",
   "execution_count": 92,
   "metadata": {},
   "outputs": [
    {
     "data": {
      "text/plain": [
       "array([5.00000035e-01-9.44035775e-20j, 3.74940186e-01+8.17099532e-18j,\n",
       "       2.94082437e-01+8.98659368e-18j, ...,\n",
       "       2.07595662e-07+9.21157043e-19j, 1.38397108e-07+3.07856458e-19j,\n",
       "       6.91985541e-08+2.45189630e-19j])"
      ]
     },
     "execution_count": 92,
     "metadata": {},
     "output_type": "execute_result"
    }
   ],
   "source": [
    "c_fast"
   ]
  },
  {
   "cell_type": "code",
   "execution_count": null,
   "metadata": {},
   "outputs": [],
   "source": []
  }
 ],
 "metadata": {
  "kernelspec": {
   "display_name": "Python 3",
   "language": "python",
   "name": "python3"
  },
  "language_info": {
   "codemirror_mode": {
    "name": "ipython",
    "version": 3
   },
   "file_extension": ".py",
   "mimetype": "text/x-python",
   "name": "python",
   "nbconvert_exporter": "python",
   "pygments_lexer": "ipython3",
   "version": "3.8.7"
  }
 },
 "nbformat": 4,
 "nbformat_minor": 4
}
