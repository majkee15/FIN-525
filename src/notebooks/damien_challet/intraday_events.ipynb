{
 "cells": [
  {
   "cell_type": "code",
   "execution_count": 1,
   "metadata": {},
   "outputs": [],
   "source": [
    "import pandas as pd\n",
    "\n",
    "def load_TRTH_trade(filename,\n",
    "             tz_exchange=\"America/New_York\",\n",
    "             only_non_special_trades=True,\n",
    "             only_regular_trading_hours=True,\n",
    "             open_time=\"09:30:00\",\n",
    "             close_time=\"16:00:00\",\n",
    "             merge_sub_trades=True):\n",
    "    \n",
    "    DF = pd.read_csv(filename)\n",
    "\n",
    "    if only_non_special_trades:\n",
    "        DF = DF[DF[\"trade-stringflag\"]==\"uncategorized\"]\n",
    "\n",
    "    DF.drop(columns=[\"trade-rawflag\",\"trade-stringflag\"],axis=1,inplace=True)\n",
    "    \n",
    "    DF.index = pd.to_datetime(DF[\"xltime\"],unit=\"d\",origin=\"1899-12-30\",utc=True)\n",
    "    DF.index = DF.index.tz_convert(tz_exchange)  # .P stands for Arca, which is based at New York\n",
    "    DF.drop(columns=\"xltime\",inplace=True)\n",
    "    \n",
    "    if only_regular_trading_hours:\n",
    "        DF=DF.between_time(open_time,close_time)    # warning: ever heard e.g. about Thanksgivings?\n",
    "    \n",
    "    if merge_sub_trades:\n",
    "           DF=DF.groupby(DF.index).agg(trade_price=pd.NamedAgg(column='trade-price', aggfunc='mean'),\n",
    "                                       trade_volume=pd.NamedAgg(column='trade-volume', aggfunc='sum'))\n",
    "    \n",
    "    return DF\n",
    "\n",
    "def load_TRTH_bbo(filename,\n",
    "             tz_exchange=\"America/New_York\",\n",
    "             open_time=\"09:30:00\",\n",
    "             close_time=\"16:00:00\",\n",
    "             only_regular_trading_hours=True):\n",
    "    \n",
    "    DF = pd.read_csv(filename)\n",
    "\n",
    "    DF.index = pd.to_datetime(DF[\"xltime\"],unit=\"d\",origin=\"1899-12-30\",utc=True)\n",
    "    DF.index = DF.index.tz_convert(tz_exchange)  # .P stands for Arca, which is based at New York\n",
    "    DF.drop(columns=\"xltime\",inplace=True)\n",
    "    \n",
    "    if only_regular_trading_hours:\n",
    "        DF=DF.between_time(open_time,close_time)    # warning: ever heard e.g. about Thanksgivings?\n",
    "        \n",
    "    return DF"
   ]
  },
  {
   "cell_type": "code",
   "execution_count": 7,
   "metadata": {},
   "outputs": [],
   "source": [
    "trades = load_TRTH_trade(\"C:\\\\Projects\\\\FIN-525\\\\data\\\\intraday\\\\equities\\\\US\\\\trade\\\\SPY.P\\\\2017-01-03-SPY.P-trade.csv.gz\")\n",
    "bbos   = load_TRTH_bbo(\"C:\\\\Projects\\\\FIN-525\\\\data\\\\intraday\\\\equities\\\\US\\\\bbo\\\\SPY.P\\\\2017-01-03-SPY.P-bbo.csv.gz\")\n",
    "\n"
   ]
  },
  {
   "cell_type": "code",
   "execution_count": 8,
   "metadata": {},
   "outputs": [
    {
     "data": {
      "text/html": [
       "<div>\n",
       "<style scoped>\n",
       "    .dataframe tbody tr th:only-of-type {\n",
       "        vertical-align: middle;\n",
       "    }\n",
       "\n",
       "    .dataframe tbody tr th {\n",
       "        vertical-align: top;\n",
       "    }\n",
       "\n",
       "    .dataframe thead th {\n",
       "        text-align: right;\n",
       "    }\n",
       "</style>\n",
       "<table border=\"1\" class=\"dataframe\">\n",
       "  <thead>\n",
       "    <tr style=\"text-align: right;\">\n",
       "      <th></th>\n",
       "      <th>trade_price</th>\n",
       "      <th>trade_volume</th>\n",
       "    </tr>\n",
       "    <tr>\n",
       "      <th>xltime</th>\n",
       "      <th></th>\n",
       "      <th></th>\n",
       "    </tr>\n",
       "  </thead>\n",
       "  <tbody>\n",
       "    <tr>\n",
       "      <th>2017-01-03 09:30:00.772963200-05:00</th>\n",
       "      <td>225.075</td>\n",
       "      <td>800.0</td>\n",
       "    </tr>\n",
       "    <tr>\n",
       "      <th>2017-01-03 09:30:00.782985600-05:00</th>\n",
       "      <td>225.065</td>\n",
       "      <td>200.0</td>\n",
       "    </tr>\n",
       "    <tr>\n",
       "      <th>2017-01-03 09:30:00.822038400-05:00</th>\n",
       "      <td>225.080</td>\n",
       "      <td>1200.0</td>\n",
       "    </tr>\n",
       "    <tr>\n",
       "      <th>2017-01-03 09:30:00.850982400-05:00</th>\n",
       "      <td>225.070</td>\n",
       "      <td>5054.0</td>\n",
       "    </tr>\n",
       "    <tr>\n",
       "      <th>2017-01-03 09:30:00.862991999-05:00</th>\n",
       "      <td>225.060</td>\n",
       "      <td>1710.0</td>\n",
       "    </tr>\n",
       "    <tr>\n",
       "      <th>...</th>\n",
       "      <td>...</td>\n",
       "      <td>...</td>\n",
       "    </tr>\n",
       "    <tr>\n",
       "      <th>2017-01-03 15:59:59.250998400-05:00</th>\n",
       "      <td>225.160</td>\n",
       "      <td>200.0</td>\n",
       "    </tr>\n",
       "    <tr>\n",
       "      <th>2017-01-03 15:59:59.613964800-05:00</th>\n",
       "      <td>225.170</td>\n",
       "      <td>200.0</td>\n",
       "    </tr>\n",
       "    <tr>\n",
       "      <th>2017-01-03 15:59:59.700019200-05:00</th>\n",
       "      <td>225.170</td>\n",
       "      <td>1331.0</td>\n",
       "    </tr>\n",
       "    <tr>\n",
       "      <th>2017-01-03 15:59:59.850960-05:00</th>\n",
       "      <td>225.170</td>\n",
       "      <td>4469.0</td>\n",
       "    </tr>\n",
       "    <tr>\n",
       "      <th>2017-01-03 15:59:59.994038400-05:00</th>\n",
       "      <td>225.170</td>\n",
       "      <td>400.0</td>\n",
       "    </tr>\n",
       "  </tbody>\n",
       "</table>\n",
       "<p>24333 rows × 2 columns</p>\n",
       "</div>"
      ],
      "text/plain": [
       "                                     trade_price  trade_volume\n",
       "xltime                                                        \n",
       "2017-01-03 09:30:00.772963200-05:00      225.075         800.0\n",
       "2017-01-03 09:30:00.782985600-05:00      225.065         200.0\n",
       "2017-01-03 09:30:00.822038400-05:00      225.080        1200.0\n",
       "2017-01-03 09:30:00.850982400-05:00      225.070        5054.0\n",
       "2017-01-03 09:30:00.862991999-05:00      225.060        1710.0\n",
       "...                                          ...           ...\n",
       "2017-01-03 15:59:59.250998400-05:00      225.160         200.0\n",
       "2017-01-03 15:59:59.613964800-05:00      225.170         200.0\n",
       "2017-01-03 15:59:59.700019200-05:00      225.170        1331.0\n",
       "2017-01-03 15:59:59.850960-05:00         225.170        4469.0\n",
       "2017-01-03 15:59:59.994038400-05:00      225.170         400.0\n",
       "\n",
       "[24333 rows x 2 columns]"
      ]
     },
     "execution_count": 8,
     "metadata": {},
     "output_type": "execute_result"
    }
   ],
   "source": [
    "trades = load_TRTH_trade(\"C:\\\\Projects\\\\FIN-525\\\\data\\\\intraday\\\\equities\\\\US\\\\trade\\\\SPY.P\\\\2017-01-03-SPY.P-trade.csv.gz\")\n",
    "trades"
   ]
  },
  {
   "cell_type": "code",
   "execution_count": 9,
   "metadata": {},
   "outputs": [
    {
     "data": {
      "text/html": [
       "<div>\n",
       "<style scoped>\n",
       "    .dataframe tbody tr th:only-of-type {\n",
       "        vertical-align: middle;\n",
       "    }\n",
       "\n",
       "    .dataframe tbody tr th {\n",
       "        vertical-align: top;\n",
       "    }\n",
       "\n",
       "    .dataframe thead th {\n",
       "        text-align: right;\n",
       "    }\n",
       "</style>\n",
       "<table border=\"1\" class=\"dataframe\">\n",
       "  <thead>\n",
       "    <tr style=\"text-align: right;\">\n",
       "      <th></th>\n",
       "      <th>bid-price</th>\n",
       "      <th>bid-volume</th>\n",
       "      <th>ask-price</th>\n",
       "      <th>ask-volume</th>\n",
       "    </tr>\n",
       "    <tr>\n",
       "      <th>xltime</th>\n",
       "      <th></th>\n",
       "      <th></th>\n",
       "      <th></th>\n",
       "      <th></th>\n",
       "    </tr>\n",
       "  </thead>\n",
       "  <tbody>\n",
       "    <tr>\n",
       "      <th>2017-01-03 09:30:00.073987200-05:00</th>\n",
       "      <td>225.03</td>\n",
       "      <td>105</td>\n",
       "      <td>225.04</td>\n",
       "      <td>4</td>\n",
       "    </tr>\n",
       "    <tr>\n",
       "      <th>2017-01-03 09:30:00.681984-05:00</th>\n",
       "      <td>225.03</td>\n",
       "      <td>105</td>\n",
       "      <td>225.08</td>\n",
       "      <td>89</td>\n",
       "    </tr>\n",
       "    <tr>\n",
       "      <th>2017-01-03 09:30:00.772963200-05:00</th>\n",
       "      <td>225.03</td>\n",
       "      <td>115</td>\n",
       "      <td>225.08</td>\n",
       "      <td>89</td>\n",
       "    </tr>\n",
       "    <tr>\n",
       "      <th>2017-01-03 09:30:00.772963200-05:00</th>\n",
       "      <td>225.05</td>\n",
       "      <td>1</td>\n",
       "      <td>225.08</td>\n",
       "      <td>89</td>\n",
       "    </tr>\n",
       "    <tr>\n",
       "      <th>2017-01-03 09:30:00.772963200-05:00</th>\n",
       "      <td>225.06</td>\n",
       "      <td>44</td>\n",
       "      <td>225.08</td>\n",
       "      <td>89</td>\n",
       "    </tr>\n",
       "    <tr>\n",
       "      <th>...</th>\n",
       "      <td>...</td>\n",
       "      <td>...</td>\n",
       "      <td>...</td>\n",
       "      <td>...</td>\n",
       "    </tr>\n",
       "    <tr>\n",
       "      <th>2017-01-03 15:59:59.991014400-05:00</th>\n",
       "      <td>225.17</td>\n",
       "      <td>71</td>\n",
       "      <td>225.18</td>\n",
       "      <td>45</td>\n",
       "    </tr>\n",
       "    <tr>\n",
       "      <th>2017-01-03 15:59:59.991014400-05:00</th>\n",
       "      <td>225.17</td>\n",
       "      <td>85</td>\n",
       "      <td>225.18</td>\n",
       "      <td>45</td>\n",
       "    </tr>\n",
       "    <tr>\n",
       "      <th>2017-01-03 15:59:59.994038400-05:00</th>\n",
       "      <td>225.17</td>\n",
       "      <td>85</td>\n",
       "      <td>225.18</td>\n",
       "      <td>44</td>\n",
       "    </tr>\n",
       "    <tr>\n",
       "      <th>2017-01-03 15:59:59.994038400-05:00</th>\n",
       "      <td>225.17</td>\n",
       "      <td>85</td>\n",
       "      <td>225.18</td>\n",
       "      <td>34</td>\n",
       "    </tr>\n",
       "    <tr>\n",
       "      <th>2017-01-03 15:59:59.994038400-05:00</th>\n",
       "      <td>225.17</td>\n",
       "      <td>81</td>\n",
       "      <td>225.18</td>\n",
       "      <td>34</td>\n",
       "    </tr>\n",
       "  </tbody>\n",
       "</table>\n",
       "<p>961046 rows × 4 columns</p>\n",
       "</div>"
      ],
      "text/plain": [
       "                                     bid-price  bid-volume  ask-price  \\\n",
       "xltime                                                                  \n",
       "2017-01-03 09:30:00.073987200-05:00     225.03         105     225.04   \n",
       "2017-01-03 09:30:00.681984-05:00        225.03         105     225.08   \n",
       "2017-01-03 09:30:00.772963200-05:00     225.03         115     225.08   \n",
       "2017-01-03 09:30:00.772963200-05:00     225.05           1     225.08   \n",
       "2017-01-03 09:30:00.772963200-05:00     225.06          44     225.08   \n",
       "...                                        ...         ...        ...   \n",
       "2017-01-03 15:59:59.991014400-05:00     225.17          71     225.18   \n",
       "2017-01-03 15:59:59.991014400-05:00     225.17          85     225.18   \n",
       "2017-01-03 15:59:59.994038400-05:00     225.17          85     225.18   \n",
       "2017-01-03 15:59:59.994038400-05:00     225.17          85     225.18   \n",
       "2017-01-03 15:59:59.994038400-05:00     225.17          81     225.18   \n",
       "\n",
       "                                     ask-volume  \n",
       "xltime                                           \n",
       "2017-01-03 09:30:00.073987200-05:00           4  \n",
       "2017-01-03 09:30:00.681984-05:00             89  \n",
       "2017-01-03 09:30:00.772963200-05:00          89  \n",
       "2017-01-03 09:30:00.772963200-05:00          89  \n",
       "2017-01-03 09:30:00.772963200-05:00          89  \n",
       "...                                         ...  \n",
       "2017-01-03 15:59:59.991014400-05:00          45  \n",
       "2017-01-03 15:59:59.991014400-05:00          45  \n",
       "2017-01-03 15:59:59.994038400-05:00          44  \n",
       "2017-01-03 15:59:59.994038400-05:00          34  \n",
       "2017-01-03 15:59:59.994038400-05:00          34  \n",
       "\n",
       "[961046 rows x 4 columns]"
      ]
     },
     "execution_count": 9,
     "metadata": {},
     "output_type": "execute_result"
    }
   ],
   "source": [
    "bbos = load_TRTH_bbo(\"C:\\\\Projects\\\\FIN-525\\\\data\\\\intraday\\\\equities\\\\US\\\\bbo\\\\SPY.P\\\\2017-01-03-SPY.P-bbo.csv.gz\")\n",
    "bbos"
   ]
  },
  {
   "cell_type": "code",
   "execution_count": 15,
   "metadata": {},
   "outputs": [
    {
     "name": "stdout",
     "output_type": "stream",
     "text": [
      "(24333, 2)\n",
      "(961046, 4)\n",
      "(962374, 6)\n"
     ]
    }
   ],
   "source": [
    "events_all = trades.join(bbos,how=\"outer\")\n",
    "print(trades.shape)\n",
    "print(bbos.shape)\n",
    "print(events_all.shape)"
   ]
  },
  {
   "cell_type": "code",
   "execution_count": 33,
   "metadata": {},
   "outputs": [
    {
     "name": "stdout",
     "output_type": "stream",
     "text": [
      "(24333, 2)\n",
      "(961046, 4)\n",
      "(206732, 6)\n"
     ]
    }
   ],
   "source": [
    "events_common = trades.join(bbos, how='inner')\n",
    "print(trades.shape)\n",
    "print(bbos.shape)\n",
    "print(events_common.shape)"
   ]
  },
  {
   "cell_type": "code",
   "execution_count": 34,
   "metadata": {},
   "outputs": [
    {
     "name": "stdout",
     "output_type": "stream",
     "text": [
      "(23005, 6)\n"
     ]
    }
   ],
   "source": [
    "events_common_first=events_common.groupby(events_common.index).first()\n",
    "print(events_common_first.shape)"
   ]
  },
  {
   "cell_type": "code",
   "execution_count": 35,
   "metadata": {},
   "outputs": [
    {
     "data": {
      "text/html": [
       "<div>\n",
       "<style scoped>\n",
       "    .dataframe tbody tr th:only-of-type {\n",
       "        vertical-align: middle;\n",
       "    }\n",
       "\n",
       "    .dataframe tbody tr th {\n",
       "        vertical-align: top;\n",
       "    }\n",
       "\n",
       "    .dataframe thead th {\n",
       "        text-align: right;\n",
       "    }\n",
       "</style>\n",
       "<table border=\"1\" class=\"dataframe\">\n",
       "  <thead>\n",
       "    <tr style=\"text-align: right;\">\n",
       "      <th></th>\n",
       "      <th>trade_price</th>\n",
       "      <th>trade_volume</th>\n",
       "      <th>bid-price</th>\n",
       "      <th>bid-volume</th>\n",
       "      <th>ask-price</th>\n",
       "      <th>ask-volume</th>\n",
       "    </tr>\n",
       "    <tr>\n",
       "      <th>xltime</th>\n",
       "      <th></th>\n",
       "      <th></th>\n",
       "      <th></th>\n",
       "      <th></th>\n",
       "      <th></th>\n",
       "      <th></th>\n",
       "    </tr>\n",
       "  </thead>\n",
       "  <tbody>\n",
       "    <tr>\n",
       "      <th>2017-01-03 09:30:00.073987200-05:00</th>\n",
       "      <td>NaN</td>\n",
       "      <td>NaN</td>\n",
       "      <td>225.03</td>\n",
       "      <td>105.0</td>\n",
       "      <td>225.04</td>\n",
       "      <td>4.0</td>\n",
       "    </tr>\n",
       "    <tr>\n",
       "      <th>2017-01-03 09:30:00.681984-05:00</th>\n",
       "      <td>NaN</td>\n",
       "      <td>NaN</td>\n",
       "      <td>225.03</td>\n",
       "      <td>105.0</td>\n",
       "      <td>225.08</td>\n",
       "      <td>89.0</td>\n",
       "    </tr>\n",
       "    <tr>\n",
       "      <th>2017-01-03 09:30:00.772963200-05:00</th>\n",
       "      <td>225.075</td>\n",
       "      <td>800.0</td>\n",
       "      <td>225.03</td>\n",
       "      <td>115.0</td>\n",
       "      <td>225.08</td>\n",
       "      <td>89.0</td>\n",
       "    </tr>\n",
       "    <tr>\n",
       "      <th>2017-01-03 09:30:00.772963200-05:00</th>\n",
       "      <td>225.075</td>\n",
       "      <td>800.0</td>\n",
       "      <td>225.05</td>\n",
       "      <td>1.0</td>\n",
       "      <td>225.08</td>\n",
       "      <td>89.0</td>\n",
       "    </tr>\n",
       "    <tr>\n",
       "      <th>2017-01-03 09:30:00.772963200-05:00</th>\n",
       "      <td>225.075</td>\n",
       "      <td>800.0</td>\n",
       "      <td>225.06</td>\n",
       "      <td>44.0</td>\n",
       "      <td>225.08</td>\n",
       "      <td>89.0</td>\n",
       "    </tr>\n",
       "    <tr>\n",
       "      <th>...</th>\n",
       "      <td>...</td>\n",
       "      <td>...</td>\n",
       "      <td>...</td>\n",
       "      <td>...</td>\n",
       "      <td>...</td>\n",
       "      <td>...</td>\n",
       "    </tr>\n",
       "    <tr>\n",
       "      <th>2017-01-03 15:59:59.991014400-05:00</th>\n",
       "      <td>225.170</td>\n",
       "      <td>4469.0</td>\n",
       "      <td>225.17</td>\n",
       "      <td>71.0</td>\n",
       "      <td>225.18</td>\n",
       "      <td>45.0</td>\n",
       "    </tr>\n",
       "    <tr>\n",
       "      <th>2017-01-03 15:59:59.991014400-05:00</th>\n",
       "      <td>225.170</td>\n",
       "      <td>4469.0</td>\n",
       "      <td>225.17</td>\n",
       "      <td>85.0</td>\n",
       "      <td>225.18</td>\n",
       "      <td>45.0</td>\n",
       "    </tr>\n",
       "    <tr>\n",
       "      <th>2017-01-03 15:59:59.994038400-05:00</th>\n",
       "      <td>225.170</td>\n",
       "      <td>400.0</td>\n",
       "      <td>225.17</td>\n",
       "      <td>85.0</td>\n",
       "      <td>225.18</td>\n",
       "      <td>44.0</td>\n",
       "    </tr>\n",
       "    <tr>\n",
       "      <th>2017-01-03 15:59:59.994038400-05:00</th>\n",
       "      <td>225.170</td>\n",
       "      <td>400.0</td>\n",
       "      <td>225.17</td>\n",
       "      <td>85.0</td>\n",
       "      <td>225.18</td>\n",
       "      <td>34.0</td>\n",
       "    </tr>\n",
       "    <tr>\n",
       "      <th>2017-01-03 15:59:59.994038400-05:00</th>\n",
       "      <td>225.170</td>\n",
       "      <td>400.0</td>\n",
       "      <td>225.17</td>\n",
       "      <td>81.0</td>\n",
       "      <td>225.18</td>\n",
       "      <td>34.0</td>\n",
       "    </tr>\n",
       "  </tbody>\n",
       "</table>\n",
       "<p>962374 rows × 6 columns</p>\n",
       "</div>"
      ],
      "text/plain": [
       "                                     trade_price  trade_volume  bid-price  \\\n",
       "xltime                                                                      \n",
       "2017-01-03 09:30:00.073987200-05:00          NaN           NaN     225.03   \n",
       "2017-01-03 09:30:00.681984-05:00             NaN           NaN     225.03   \n",
       "2017-01-03 09:30:00.772963200-05:00      225.075         800.0     225.03   \n",
       "2017-01-03 09:30:00.772963200-05:00      225.075         800.0     225.05   \n",
       "2017-01-03 09:30:00.772963200-05:00      225.075         800.0     225.06   \n",
       "...                                          ...           ...        ...   \n",
       "2017-01-03 15:59:59.991014400-05:00      225.170        4469.0     225.17   \n",
       "2017-01-03 15:59:59.991014400-05:00      225.170        4469.0     225.17   \n",
       "2017-01-03 15:59:59.994038400-05:00      225.170         400.0     225.17   \n",
       "2017-01-03 15:59:59.994038400-05:00      225.170         400.0     225.17   \n",
       "2017-01-03 15:59:59.994038400-05:00      225.170         400.0     225.17   \n",
       "\n",
       "                                     bid-volume  ask-price  ask-volume  \n",
       "xltime                                                                  \n",
       "2017-01-03 09:30:00.073987200-05:00       105.0     225.04         4.0  \n",
       "2017-01-03 09:30:00.681984-05:00          105.0     225.08        89.0  \n",
       "2017-01-03 09:30:00.772963200-05:00       115.0     225.08        89.0  \n",
       "2017-01-03 09:30:00.772963200-05:00         1.0     225.08        89.0  \n",
       "2017-01-03 09:30:00.772963200-05:00        44.0     225.08        89.0  \n",
       "...                                         ...        ...         ...  \n",
       "2017-01-03 15:59:59.991014400-05:00        71.0     225.18        45.0  \n",
       "2017-01-03 15:59:59.991014400-05:00        85.0     225.18        45.0  \n",
       "2017-01-03 15:59:59.994038400-05:00        85.0     225.18        44.0  \n",
       "2017-01-03 15:59:59.994038400-05:00        85.0     225.18        34.0  \n",
       "2017-01-03 15:59:59.994038400-05:00        81.0     225.18        34.0  \n",
       "\n",
       "[962374 rows x 6 columns]"
      ]
     },
     "execution_count": 35,
     "metadata": {},
     "output_type": "execute_result"
    }
   ],
   "source": [
    "events_all.ffill(inplace=True)\n",
    "events_all"
   ]
  },
  {
   "cell_type": "code",
   "execution_count": 36,
   "metadata": {},
   "outputs": [
    {
     "data": {
      "text/plain": [
       "51.396331787109375"
      ]
     },
     "execution_count": 36,
     "metadata": {},
     "output_type": "execute_result"
    }
   ],
   "source": [
    "import sys\n",
    "sys.getsizeof(events_all)/1024/1024   # in Megabytes"
   ]
  },
  {
   "cell_type": "code",
   "execution_count": 37,
   "metadata": {},
   "outputs": [],
   "source": [
    "import numpy as np\n",
    "bbos[\"logmid\"]=np.log((bbos[\"ask-price\"]+bbos[\"bid-price\"])/2)"
   ]
  },
  {
   "cell_type": "code",
   "execution_count": 38,
   "metadata": {},
   "outputs": [],
   "source": [
    "s2=[]\n",
    "ks=range(1,30,1)\n",
    "for k in ks:\n",
    "    resample_freq = str(k)+\"s\"\n",
    "    logrets=bbos[\"logmid\"].resample(resample_freq).last().diff()\n",
    "    logrets=logrets[logrets!=0]\n",
    "    s2.append(np.nanmean(logrets*logrets))"
   ]
  },
  {
   "cell_type": "code",
   "execution_count": 41,
   "metadata": {},
   "outputs": [
    {
     "data": {
      "text/plain": [
       "0.00018567827381033315"
      ]
     },
     "execution_count": 41,
     "metadata": {},
     "output_type": "execute_result"
    }
   ],
   "source": [
    "np.nanstd(logrets)"
   ]
  },
  {
   "cell_type": "code",
   "execution_count": 45,
   "metadata": {},
   "outputs": [
    {
     "data": {
      "image/png": "[encoded data removed]",
      "text/plain": [
       "<Figure size 432x288 with 1 Axes>"
      ]
     },
     "metadata": {
      "needs_background": "light"
     },
     "output_type": "display_data"
    }
   ],
   "source": [
    "import matplotlib.pyplot as plt\n",
    "plt.plot(ks,s2/np.array(ks))\n",
    "plt.xlabel(r\"$\\delta t$\")\n",
    "plt.ylabel(r\"$\\sigma^2$\")\n",
    "plt.savefig(\"signature_plot.pdf\")"
   ]
  },
  {
   "cell_type": "code",
   "execution_count": 87,
   "metadata": {},
   "outputs": [],
   "source": [
    "bbos[\"spread\"]=bbos[\"ask-price\"]-bbos[\"bid-price\"]\n",
    "bbos[\"tot-volume\"]=bbos[\"bid-volume\"]+bbos[\"ask-volume\"]"
   ]
  },
  {
   "cell_type": "code",
   "execution_count": 91,
   "metadata": {},
   "outputs": [
    {
     "data": {
      "text/plain": [
       "<matplotlib.axes._subplots.AxesSubplot at 0x7f5f0486ef50>"
      ]
     },
     "execution_count": 91,
     "metadata": {},
     "output_type": "execute_result"
    },
    {
     "data": {
      "image/png": "[encoded data removed]",
      "text/plain": [
       "<Figure size 432x288 with 1 Axes>"
      ]
     },
     "metadata": {
      "needs_background": "light"
     },
     "output_type": "display_data"
    }
   ],
   "source": [
    "bbos[\"tot-volume\"].groupby(bbos.index.hour).sum().plot()"
   ]
  },
  {
   "cell_type": "code",
   "execution_count": 92,
   "metadata": {},
   "outputs": [
    {
     "data": {
      "text/plain": [
       "<matplotlib.axes._subplots.AxesSubplot at 0x7f5f04847550>"
      ]
     },
     "execution_count": 92,
     "metadata": {},
     "output_type": "execute_result"
    },
    {
     "data": {
      "image/png": "[encoded data removed]",
      "text/plain": [
       "<Figure size 432x288 with 1 Axes>"
      ]
     },
     "metadata": {
      "needs_background": "light"
     },
     "output_type": "display_data"
    }
   ],
   "source": [
    "bbos[\"spread\"].groupby(bbos.index.hour).mean().plot()"
   ]
  },
  {
   "cell_type": "code",
   "execution_count": 117,
   "metadata": {},
   "outputs": [
    {
     "data": {
      "text/plain": [
       "<matplotlib.axes._subplots.AxesSubplot at 0x7f5f042e0450>"
      ]
     },
     "execution_count": 117,
     "metadata": {},
     "output_type": "execute_result"
    },
    {
     "data": {
      "image/png": "[encoded data removed]",
      "text/plain": [
       "<Figure size 432x288 with 1 Axes>"
      ]
     },
     "metadata": {
      "needs_background": "light"
     },
     "output_type": "display_data"
    }
   ],
   "source": [
    "bbos[\"spread\"].groupby(bbos.index.hour).median().plot()   # SPY is a \"large-tick\" asset: the spread is most of\n",
    "                                                          # exactly 1 tick. AAPL on the other hand is a small-tick\n",
    "                                                          # asset"
   ]
  },
  {
   "cell_type": "code",
   "execution_count": 116,
   "metadata": {},
   "outputs": [
    {
     "data": {
      "text/plain": [
       "<matplotlib.axes._subplots.AxesSubplot at 0x7f5f0436fb90>"
      ]
     },
     "execution_count": 116,
     "metadata": {},
     "output_type": "execute_result"
    },
    {
     "data": {
      "image/png": "[encoded data removed]",
      "text/plain": [
       "<Figure size 432x288 with 1 Axes>"
      ]
     },
     "metadata": {
      "needs_background": "light"
     },
     "output_type": "display_data"
    }
   ],
   "source": [
    "#with a single day of data, one needs to sample price returns at smaller time intervals\n",
    "# and then average the realized volatility at larger time intervals \n",
    "(((bbos[\"logmid\"].resample(\"1Min\").last()).diff())**2).resample(\"60Min\").mean().plot()"
   ]
  },
  {
   "cell_type": "code",
   "execution_count": 53,
   "metadata": {},
   "outputs": [],
   "source": [
    "import dask\n",
    "dask.config.set(scheduler='processes')\n",
    "\n",
    "import glob\n",
    "\n",
    "@dask.delayed\n",
    "def loadTRTH(myfile):\n",
    "    return pd.read_csv(myfile)\n",
    "    \n",
    "allfiles=glob.glob(\"C:\\\\Projects\\\\FIN-525\\\\data\\\\intraday\\\\equities\\\\US\\\\bbo\\\\SPY.P\\\\*.csv.gz\")\n",
    "\n",
    "allpromises=[loadTRTH(i) for i in allfiles]"
   ]
  },
  {
   "cell_type": "code",
   "execution_count": 54,
   "metadata": {},
   "outputs": [],
   "source": [
    "alldata=dask.compute(allpromises)"
   ]
  },
  {
   "cell_type": "code",
   "execution_count": 58,
   "metadata": {},
   "outputs": [
    {
     "data": {
      "text/plain": [
       "['C:\\\\Projects\\\\FIN-525\\\\data\\\\intraday\\\\equities\\\\US\\\\bbo\\\\SPY.P\\\\2017-01-03-SPY.P-bbo.csv.gz',\n",
       " 'C:\\\\Projects\\\\FIN-525\\\\data\\\\intraday\\\\equities\\\\US\\\\bbo\\\\SPY.P\\\\2017-01-04-SPY.P-bbo.csv.gz',\n",
       " 'C:\\\\Projects\\\\FIN-525\\\\data\\\\intraday\\\\equities\\\\US\\\\bbo\\\\SPY.P\\\\2017-01-05-SPY.P-bbo.csv.gz',\n",
       " 'C:\\\\Projects\\\\FIN-525\\\\data\\\\intraday\\\\equities\\\\US\\\\bbo\\\\SPY.P\\\\2017-01-06-SPY.P-bbo.csv.gz',\n",
       " 'C:\\\\Projects\\\\FIN-525\\\\data\\\\intraday\\\\equities\\\\US\\\\bbo\\\\SPY.P\\\\2017-01-09-SPY.P-bbo.csv.gz',\n",
       " 'C:\\\\Projects\\\\FIN-525\\\\data\\\\intraday\\\\equities\\\\US\\\\bbo\\\\SPY.P\\\\2017-01-10-SPY.P-bbo.csv.gz',\n",
       " 'C:\\\\Projects\\\\FIN-525\\\\data\\\\intraday\\\\equities\\\\US\\\\bbo\\\\SPY.P\\\\2017-01-11-SPY.P-bbo.csv.gz',\n",
       " 'C:\\\\Projects\\\\FIN-525\\\\data\\\\intraday\\\\equities\\\\US\\\\bbo\\\\SPY.P\\\\2017-01-12-SPY.P-bbo.csv.gz',\n",
       " 'C:\\\\Projects\\\\FIN-525\\\\data\\\\intraday\\\\equities\\\\US\\\\bbo\\\\SPY.P\\\\2017-01-13-SPY.P-bbo.csv.gz']"
      ]
     },
     "execution_count": 58,
     "metadata": {},
     "output_type": "execute_result"
    }
   ],
   "source": [
    "allfiles"
   ]
  },
  {
   "cell_type": "code",
   "execution_count": 52,
   "metadata": {},
   "outputs": [
    {
     "data": {
      "text/plain": [
       "['C:\\\\Projects\\\\FIN-525\\\\data\\\\intraday\\\\equities\\\\US\\\\bbo\\\\SPY.P\\\\2017-01-03-SPY.P-bbo.csv.gz']"
      ]
     },
     "execution_count": 52,
     "metadata": {},
     "output_type": "execute_result"
    }
   ],
   "source": [
    "allfiles"
   ]
  },
  {
   "cell_type": "code",
   "execution_count": null,
   "metadata": {},
   "outputs": [],
   "source": []
  }
 ],
 "metadata": {
  "kernelspec": {
   "display_name": "Python 3",
   "language": "python",
   "name": "python3"
  },
  "language_info": {
   "codemirror_mode": {
    "name": "ipython",
    "version": 3
   },
   "file_extension": ".py",
   "mimetype": "text/x-python",
   "name": "python",
   "nbconvert_exporter": "python",
   "pygments_lexer": "ipython3",
   "version": "3.7.7"
  }
 },
 "nbformat": 4,
 "nbformat_minor": 4
}
